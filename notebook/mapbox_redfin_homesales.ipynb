{
 "cells": [
  {
   "cell_type": "markdown",
   "metadata": {},
   "source": [
    "## Million dollar home sales\n",
    "Home sales of $1million and above in Northeastern Massachusetts for the 3 months prior to Jan. 27, 2017. Downloaded from Redfin.com on Jan. 27, 2017."
   ]
  },
  {
   "cell_type": "code",
   "execution_count": 1,
   "metadata": {
    "collapsed": false
   },
   "outputs": [
    {
     "name": "stdout",
     "output_type": "stream",
     "text": [
      "Pixiedust database opened successfully\n"
     ]
    },
    {
     "data": {
      "text/html": [
       "\n",
       "        <div style=\"margin:10px\">\n",
       "            <a href=\"https://github.com/ibm-cds-labs/pixiedust\" target=\"_new\">\n",
       "                <img src=\"https://github.com/ibm-cds-labs/pixiedust/raw/master/docs/_static/pd_icon32.png\" style=\"float:left;margin-right:10px\"/>\n",
       "            </a>\n",
       "            <span>Pixiedust version 0.74</span>\n",
       "        </div>\n",
       "        "
      ],
      "text/plain": [
       "<IPython.core.display.HTML object>"
      ]
     },
     "metadata": {},
     "output_type": "display_data"
    },
    {
     "name": "stderr",
     "output_type": "stream",
     "text": [
      "/Users/rajrsingh/anaconda/lib/python2.7/site-packages/bokeh/core/json_encoder.py:52: DeprecationWarning: parsing timezone aware datetimes is deprecated; this will raise an error in the future\n",
      "  NP_EPOCH = np.datetime64('1970-01-01T00:00:00Z')\n"
     ]
    }
   ],
   "source": [
    "import pixiedust"
   ]
  },
  {
   "cell_type": "code",
   "execution_count": 2,
   "metadata": {
    "collapsed": false
   },
   "outputs": [
    {
     "data": {
      "text/html": [
       "<table class=\"table table-hover pd_save\" style=\"font-size:small\">\n",
       "  <thead>\n",
       "    <tr>\n",
       "      <th align=\"center\" valign=\"middle\">Id</th>\n",
       "      <th>Name</th>\n",
       "      <th>Topic</th>\n",
       "      <th>Publisher</th>\n",
       "    </tr>\n",
       "  </thead>\n",
       "  <tbody>\n",
       "  \n",
       "    <tr>\n",
       "        <td>1</td>\n",
       "        <td>Car performance data</td>\n",
       "        <td>transportation</td>\n",
       "        <td>IBM</td>\n",
       "    </tr>\n",
       "  \n",
       "    <tr>\n",
       "        <td>2</td>\n",
       "        <td>Airbnb Data for Analytics: Washington D.C. Listings</td>\n",
       "        <td>Economy & Business</td>\n",
       "        <td>IBM Cloud Data Services</td>\n",
       "    </tr>\n",
       "  \n",
       "    <tr>\n",
       "        <td>3</td>\n",
       "        <td>Total population by country</td>\n",
       "        <td>Society</td>\n",
       "        <td>IBM Cloud Data Services</td>\n",
       "    </tr>\n",
       "  \n",
       "    <tr>\n",
       "        <td>4</td>\n",
       "        <td>GoSales Transactions for Naive Bayes Model</td>\n",
       "        <td>Leisure</td>\n",
       "        <td>IBM</td>\n",
       "    </tr>\n",
       "  \n",
       "    <tr>\n",
       "        <td>5</td>\n",
       "        <td>Election results by County</td>\n",
       "        <td>Society</td>\n",
       "        <td>IBM</td>\n",
       "    </tr>\n",
       "  \n",
       "    <tr>\n",
       "        <td>6</td>\n",
       "        <td>Million dollar home sales in NE Mass late 2016</td>\n",
       "        <td>Economy & Business</td>\n",
       "        <td>IBM</td>\n",
       "    </tr>\n",
       "  \n",
       "  </tbody>\n",
       "</table>"
      ],
      "text/plain": [
       "<IPython.core.display.HTML object>"
      ]
     },
     "metadata": {},
     "output_type": "display_data"
    }
   ],
   "source": [
    "pixiedust.sampleData()"
   ]
  },
  {
   "cell_type": "code",
   "execution_count": 3,
   "metadata": {
    "collapsed": false
   },
   "outputs": [
    {
     "name": "stdout",
     "output_type": "stream",
     "text": [
      "Downloading 'Million dollar home sales in NE Mass late 2016' from https://openobjectstore.mybluemix.net/misc/milliondollarhomes.csv\n"
     ]
    },
    {
     "data": {
      "text/html": [
       "\n",
       "                <div>\n",
       "                    <span id=\"pm_label66549769\">Starting download...</span>\n",
       "                    <progress id=\"pm_progress66549769\" max=\"100\" value=\"0\" style=\"width:200px\"></progress>\n",
       "                </div>"
      ],
      "text/plain": [
       "<IPython.core.display.HTML object>"
      ]
     },
     "metadata": {},
     "output_type": "display_data"
    },
    {
     "data": {
      "application/javascript": [
       "\n",
       "                    $(\"#pm_label66549769\").text(\"Downloaded 8192 of 8192 bytes\");\n",
       "                    $(\"#pm_progress66549769\").attr(\"value\", 100.0);\n",
       "                "
      ],
      "text/plain": [
       "<IPython.core.display.Javascript object>"
      ]
     },
     "metadata": {},
     "output_type": "display_data"
    },
    {
     "data": {
      "application/javascript": [
       "\n",
       "                    $(\"#pm_label66549769\").text(\"Downloaded 16384 of 16384 bytes\");\n",
       "                    $(\"#pm_progress66549769\").attr(\"value\", 100.0);\n",
       "                "
      ],
      "text/plain": [
       "<IPython.core.display.Javascript object>"
      ]
     },
     "metadata": {},
     "output_type": "display_data"
    },
    {
     "data": {
      "application/javascript": [
       "\n",
       "                    $(\"#pm_label66549769\").text(\"Downloaded 24576 of 24576 bytes\");\n",
       "                    $(\"#pm_progress66549769\").attr(\"value\", 100.0);\n",
       "                "
      ],
      "text/plain": [
       "<IPython.core.display.Javascript object>"
      ]
     },
     "metadata": {},
     "output_type": "display_data"
    },
    {
     "data": {
      "application/javascript": [
       "\n",
       "                    $(\"#pm_label66549769\").text(\"Downloaded 32768 of 32768 bytes\");\n",
       "                    $(\"#pm_progress66549769\").attr(\"value\", 100.0);\n",
       "                "
      ],
      "text/plain": [
       "<IPython.core.display.Javascript object>"
      ]
     },
     "metadata": {},
     "output_type": "display_data"
    },
    {
     "data": {
      "application/javascript": [
       "\n",
       "                    $(\"#pm_label66549769\").text(\"Downloaded 40960 of 40960 bytes\");\n",
       "                    $(\"#pm_progress66549769\").attr(\"value\", 100.0);\n",
       "                "
      ],
      "text/plain": [
       "<IPython.core.display.Javascript object>"
      ]
     },
     "metadata": {},
     "output_type": "display_data"
    },
    {
     "data": {
      "application/javascript": [
       "\n",
       "                    $(\"#pm_label66549769\").text(\"Downloaded 49152 of 49152 bytes\");\n",
       "                    $(\"#pm_progress66549769\").attr(\"value\", 100.0);\n",
       "                "
      ],
      "text/plain": [
       "<IPython.core.display.Javascript object>"
      ]
     },
     "metadata": {},
     "output_type": "display_data"
    },
    {
     "data": {
      "application/javascript": [
       "\n",
       "                    $(\"#pm_label66549769\").text(\"Downloaded 57344 of 57344 bytes\");\n",
       "                    $(\"#pm_progress66549769\").attr(\"value\", 100.0);\n",
       "                "
      ],
      "text/plain": [
       "<IPython.core.display.Javascript object>"
      ]
     },
     "metadata": {},
     "output_type": "display_data"
    },
    {
     "data": {
      "application/javascript": [
       "\n",
       "                    $(\"#pm_label66549769\").text(\"Downloaded 65536 of 65536 bytes\");\n",
       "                    $(\"#pm_progress66549769\").attr(\"value\", 100.0);\n",
       "                "
      ],
      "text/plain": [
       "<IPython.core.display.Javascript object>"
      ]
     },
     "metadata": {},
     "output_type": "display_data"
    },
    {
     "data": {
      "application/javascript": [
       "\n",
       "                    $(\"#pm_label66549769\").text(\"Downloaded 73728 of 73728 bytes\");\n",
       "                    $(\"#pm_progress66549769\").attr(\"value\", 100.0);\n",
       "                "
      ],
      "text/plain": [
       "<IPython.core.display.Javascript object>"
      ]
     },
     "metadata": {},
     "output_type": "display_data"
    },
    {
     "data": {
      "application/javascript": [
       "\n",
       "                    $(\"#pm_label66549769\").text(\"Downloaded 81920 of 81920 bytes\");\n",
       "                    $(\"#pm_progress66549769\").attr(\"value\", 100.0);\n",
       "                "
      ],
      "text/plain": [
       "<IPython.core.display.Javascript object>"
      ]
     },
     "metadata": {},
     "output_type": "display_data"
    },
    {
     "data": {
      "application/javascript": [
       "\n",
       "                    $(\"#pm_label66549769\").text(\"Downloaded 90112 of 90112 bytes\");\n",
       "                    $(\"#pm_progress66549769\").attr(\"value\", 100.0);\n",
       "                "
      ],
      "text/plain": [
       "<IPython.core.display.Javascript object>"
      ]
     },
     "metadata": {},
     "output_type": "display_data"
    },
    {
     "data": {
      "application/javascript": [
       "\n",
       "                    $(\"#pm_label66549769\").text(\"Downloaded 98304 of 98304 bytes\");\n",
       "                    $(\"#pm_progress66549769\").attr(\"value\", 100.0);\n",
       "                "
      ],
      "text/plain": [
       "<IPython.core.display.Javascript object>"
      ]
     },
     "metadata": {},
     "output_type": "display_data"
    },
    {
     "data": {
      "application/javascript": [
       "\n",
       "                    $(\"#pm_label66549769\").text(\"Downloaded 102051 of 102051 bytes\");\n",
       "                    $(\"#pm_progress66549769\").attr(\"value\", 100.0);\n",
       "                "
      ],
      "text/plain": [
       "<IPython.core.display.Javascript object>"
      ]
     },
     "metadata": {},
     "output_type": "display_data"
    },
    {
     "name": "stdout",
     "output_type": "stream",
     "text": [
      "Creating pySpark DataFrame for 'Million dollar home sales in NE Mass late 2016'. Please wait...\n",
      "Successfully created pySpark DataFrame for 'Million dollar home sales in NE Mass late 2016'\n"
     ]
    }
   ],
   "source": [
    "home_df = pixiedust.sampleData(6)"
   ]
  },
  {
   "cell_type": "code",
   "execution_count": 4,
   "metadata": {
    "collapsed": false,
    "pixiedust": {
     "displayParams": {
      "aggregation": "SUM",
      "handlerId": "mapView",
      "keyFields": "LATITUDE,LONGITUDE",
      "kind": "chloropleth",
      "rowCount": "400",
      "showLegend": "true",
      "valueFields": "PRICE,LISTING ID"
     }
    },
    "scrolled": true
   },
   "outputs": [
    {
     "data": {
      "text/html": [
       "<style type=\"text/css\">.pd_warning{display:none;}</style><div class=\"pd_warning\"><em>Hey, there's something awesome here! To see it, open this notebook outside GitHub, in a viewer like Jupyter</em></div>"
      ],
      "text/plain": [
       "<IPython.core.display.HTML object>"
      ]
     },
     "metadata": {},
     "output_type": "display_data"
    }
   ],
   "source": [
    "display(home_df)"
   ]
  }
 ],
 "metadata": {
  "celltoolbar": "Edit Metadata",
  "kernelspec": {
   "display_name": "pySpark (Spark 1.6.0) Python 2",
   "language": "python",
   "name": "pyspark1.6"
  },
  "language_info": {
   "codemirror_mode": {
    "name": "ipython",
    "version": 2
   },
   "file_extension": ".py",
   "mimetype": "text/x-python",
   "name": "python",
   "nbconvert_exporter": "python",
   "pygments_lexer": "ipython2",
   "version": "2.7.11"
  }
 },
 "nbformat": 4,
 "nbformat_minor": 0
}
