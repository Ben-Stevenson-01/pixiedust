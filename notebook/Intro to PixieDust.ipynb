{
 "cells": [
  {
   "cell_type": "markdown",
   "metadata": {},
   "source": [
    "# HelloWorld PixieDust sample\n",
    "To get the latest PixieDust uncomment and run the cell below. Do not run if you installed PixieDust locally from source and want to continue to run PixieDust from source."
   ]
  },
  {
   "cell_type": "code",
   "execution_count": null,
   "metadata": {
    "collapsed": true
   },
   "outputs": [],
   "source": [
    "#!pip install --user --upgrade pixiedust"
   ]
  },
  {
   "cell_type": "markdown",
   "metadata": {},
   "source": [
    "# Import PixieDust\n",
    "You may need to restart your kernel. Follow the instructions, if any, after running this cell."
   ]
  },
  {
   "cell_type": "code",
   "execution_count": null,
   "metadata": {
    "collapsed": false
   },
   "outputs": [],
   "source": [
    "import pixiedust\n",
    "sqlContext=SQLContext(sc)"
   ]
  },
  {
   "cell_type": "markdown",
   "metadata": {
    "collapsed": false,
    "pixiedust": {
     "displayParams": {
      "handlerId": "dataframe"
     }
    }
   },
   "source": [
    "# Enable Spark progress monitor"
   ]
  },
  {
   "cell_type": "code",
   "execution_count": null,
   "metadata": {
    "collapsed": false
   },
   "outputs": [],
   "source": [
    "pixiedust.enableJobMonitor();"
   ]
  },
  {
   "cell_type": "markdown",
   "metadata": {},
   "source": [
    "# Example use of PackageManager\n",
    "This example installs the GraphFrame package."
   ]
  },
  {
   "cell_type": "code",
   "execution_count": null,
   "metadata": {
    "collapsed": false
   },
   "outputs": [],
   "source": [
    "pixiedust.installPackage(\"graphframes:graphframes:0.1.0-spark1.6\")\n",
    "print(\"done\")"
   ]
  },
  {
   "cell_type": "markdown",
   "metadata": {},
   "source": [
    "# Example use of display\n",
    "This example creates a DataFrame and uses the display API to create a bar chart."
   ]
  },
  {
   "cell_type": "code",
   "execution_count": null,
   "metadata": {
    "collapsed": false,
    "pixiedust": {
     "displayParams": {
      "aggregation": "SUM",
      "handlerId": "barChart",
      "keyFields": "year,zone",
      "showLegend": "true",
      "stacked": "false",
      "staticFigure": "false",
      "title": "Simple Bar Chart",
      "valueFields": "unique_customers"
     }
    }
   },
   "outputs": [],
   "source": [
    "d1 = sqlContext.createDataFrame(\n",
    "[(2010, 'Camping Equipment', 3),\n",
    " (2010, 'Golf Equipment', 1),\n",
    " (2010, 'Mountaineering Equipment', 1),\n",
    " (2010, 'Outdoor Protection', 2),\n",
    " (2010, 'Personal Accessories', 2),\n",
    " (2011, 'Camping Equipment', 4),\n",
    " (2011, 'Golf Equipment', 5),\n",
    " (2011, 'Mountaineering Equipment',2),\n",
    " (2011, 'Outdoor Protection', 4),\n",
    " (2011, 'Personal Accessories', 2),\n",
    " (2012, 'Camping Equipment', 5),\n",
    " (2012, 'Golf Equipment', 5),\n",
    " (2012, 'Mountaineering Equipment', 3),\n",
    " (2012, 'Outdoor Protection', 5),\n",
    " (2012, 'Personal Accessories', 3),\n",
    " (2013, 'Camping Equipment', 8),\n",
    " (2013, 'Golf Equipment', 5),\n",
    " (2013, 'Mountaineering Equipment', 3),\n",
    " (2013, 'Outdoor Protection', 8),\n",
    " (2013, 'Personal Accessories', 4)],\n",
    "[\"year\",\"zone\",\"unique_customers\"])\n",
    "\n",
    "display(d1)"
   ]
  },
  {
   "cell_type": "markdown",
   "metadata": {},
   "source": [
    "# Example use of the Scala bridge\n",
    "Start by creating a python variable that we'll use in scala"
   ]
  },
  {
   "cell_type": "code",
   "execution_count": null,
   "metadata": {
    "collapsed": true
   },
   "outputs": [],
   "source": [
    "python_var = \"Hello From Python\"\n",
    "python_num = 10"
   ]
  },
  {
   "cell_type": "markdown",
   "metadata": {},
   "source": [
    "Create scala code that use the python_var and create a new variable that we'll use in Python"
   ]
  },
  {
   "cell_type": "code",
   "execution_count": null,
   "metadata": {
    "collapsed": false
   },
   "outputs": [],
   "source": [
    "%%scala\n",
    "println(python_var)\n",
    "println(python_num+10)\n",
    "val __scala_var = \"Hello From Scala\""
   ]
  },
  {
   "cell_type": "markdown",
   "metadata": {},
   "source": [
    "Use the __scala_var from python"
   ]
  },
  {
   "cell_type": "code",
   "execution_count": null,
   "metadata": {
    "collapsed": false
   },
   "outputs": [],
   "source": [
    "print(__scala_var)"
   ]
  },
  {
   "cell_type": "markdown",
   "metadata": {},
   "source": [
    "# Sample Data\n",
    "PixieDust includes sample data sets available for testing"
   ]
  },
  {
   "cell_type": "code",
   "execution_count": null,
   "metadata": {
    "collapsed": true
   },
   "outputs": [],
   "source": [
    "pixiedust.sampleData()"
   ]
  },
  {
   "cell_type": "markdown",
   "metadata": {},
   "source": [
    "# Example use of sample data\n",
    "To use sample data locally run the following cell to install required packages. You may need to restart your kernel after running this cell."
   ]
  },
  {
   "cell_type": "code",
   "execution_count": null,
   "metadata": {
    "collapsed": true
   },
   "outputs": [],
   "source": [
    "pixiedust.installPackage(\"com.databricks:spark-csv_2.10:1.5.0\")\n",
    "pixiedust.installPackage(\"org.apache.commons:commons-csv:0\")"
   ]
  },
  {
   "cell_type": "code",
   "execution_count": null,
   "metadata": {
    "collapsed": true
   },
   "outputs": [],
   "source": [
    "d2 = pixiedust.sampleData(1)"
   ]
  },
  {
   "cell_type": "code",
   "execution_count": null,
   "metadata": {
    "collapsed": true
   },
   "outputs": [],
   "source": [
    "display(d2)"
   ]
  },
  {
   "cell_type": "markdown",
   "metadata": {},
   "source": [
    "# PixieDust Log"
   ]
  },
  {
   "cell_type": "code",
   "execution_count": null,
   "metadata": {
    "collapsed": true
   },
   "outputs": [],
   "source": [
    "% pixiedustLog -l debug"
   ]
  },
  {
   "cell_type": "markdown",
   "metadata": {},
   "source": [
    "# Environment Info.\n",
    "The following cells will print out information related to your notebook environment."
   ]
  },
  {
   "cell_type": "code",
   "execution_count": null,
   "metadata": {
    "collapsed": true
   },
   "outputs": [],
   "source": [
    "%%scala\n",
    "val __scala_version = util.Properties.versionNumberString"
   ]
  },
  {
   "cell_type": "code",
   "execution_count": null,
   "metadata": {
    "collapsed": true
   },
   "outputs": [],
   "source": [
    "import platform\n",
    "print('PYTHON VERSON = ' + platform.python_version())\n",
    "print('SPARK VERSON = ' + sc.version)\n",
    "print('SCALA VERSON = ' + __scala_version)"
   ]
  }
 ],
 "metadata": {
  "anaconda-cloud": {},
  "kernelspec": {
   "display_name": "Python with Pixiedust (Spark 1.6)",
   "language": "python",
   "name": "pythonwithpixiedustspark16"
  },
  "language_info": {
   "codemirror_mode": {
    "name": "ipython",
    "version": 2
   },
   "file_extension": ".py",
   "mimetype": "text/x-python",
   "name": "python",
   "nbconvert_exporter": "python",
   "pygments_lexer": "ipython2",
   "version": "2.7.13"
  }
 },
 "nbformat": 4,
 "nbformat_minor": 0
}
